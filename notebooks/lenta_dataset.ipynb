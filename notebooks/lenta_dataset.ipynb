{
 "cells": [
  {
   "cell_type": "code",
   "execution_count": 1,
   "metadata": {
    "collapsed": true
   },
   "outputs": [],
   "source": [
    "import pandas as pd\n",
    "import numpy as np\n",
    "import pickle\n",
    "\n",
    "from sklearn.model_selection import train_test_split"
   ]
  },
  {
   "cell_type": "code",
   "execution_count": 2,
   "metadata": {
    "collapsed": true
   },
   "outputs": [],
   "source": [
    "# https://www.kaggle.com/yutkin/corpus-of-russian-news-articles-from-lenta\n",
    "# Lenta.Ru dataset\n",
    "\n",
    "data = pd.read_csv('data/lenta-ru-news.csv')\n",
    "\n",
    "data = data[['title', 'tags']]\n",
    "data = data.rename(columns={'title': 'text', 'tags': 'labels'})\n",
    "data = data.dropna()"
   ]
  },
  {
   "cell_type": "code",
   "execution_count": 3,
   "metadata": {},
   "outputs": [
    {
     "data": {
      "text/plain": [
       "(712837, 2)"
      ]
     },
     "execution_count": 3,
     "metadata": {},
     "output_type": "execute_result"
    }
   ],
   "source": [
    "data.shape"
   ]
  },
  {
   "cell_type": "code",
   "execution_count": 4,
   "metadata": {},
   "outputs": [
    {
     "data": {
      "text/html": [
       "<div>\n",
       "<style scoped>\n",
       "    .dataframe tbody tr th:only-of-type {\n",
       "        vertical-align: middle;\n",
       "    }\n",
       "\n",
       "    .dataframe tbody tr th {\n",
       "        vertical-align: top;\n",
       "    }\n",
       "\n",
       "    .dataframe thead th {\n",
       "        text-align: right;\n",
       "    }\n",
       "</style>\n",
       "<table border=\"1\" class=\"dataframe\">\n",
       "  <thead>\n",
       "    <tr style=\"text-align: right;\">\n",
       "      <th></th>\n",
       "      <th>text</th>\n",
       "      <th>labels</th>\n",
       "    </tr>\n",
       "  </thead>\n",
       "  <tbody>\n",
       "    <tr>\n",
       "      <th>297725</th>\n",
       "      <td>Чрезвычайное положение в Тунисе продлили на тр...</td>\n",
       "      <td>Все</td>\n",
       "    </tr>\n",
       "    <tr>\n",
       "      <th>566339</th>\n",
       "      <td>В аэропорту Иркутска совершил аварийную посадк...</td>\n",
       "      <td>Все</td>\n",
       "    </tr>\n",
       "    <tr>\n",
       "      <th>66888</th>\n",
       "      <td>Путин рассказал рабочим о главном лидерском ка...</td>\n",
       "      <td>Политика</td>\n",
       "    </tr>\n",
       "    <tr>\n",
       "      <th>717224</th>\n",
       "      <td>Организатор \"Белой стрелы\" вышел на свободу</td>\n",
       "      <td>Все</td>\n",
       "    </tr>\n",
       "    <tr>\n",
       "      <th>65602</th>\n",
       "      <td>Колдуны сорвали парламентские выборы в Папуа —...</td>\n",
       "      <td>Политика</td>\n",
       "    </tr>\n",
       "    <tr>\n",
       "      <th>11027</th>\n",
       "      <td>Сын Трампа упрекнул умершего год назад журналиста</td>\n",
       "      <td>Интернет</td>\n",
       "    </tr>\n",
       "    <tr>\n",
       "      <th>33661</th>\n",
       "      <td>Россиянин с нарушением зрения выиграл бронзу П...</td>\n",
       "      <td>Зимние виды</td>\n",
       "    </tr>\n",
       "    <tr>\n",
       "      <th>8774</th>\n",
       "      <td>Захарова предложила наказывать футболистов «ст...</td>\n",
       "      <td>Политика</td>\n",
       "    </tr>\n",
       "    <tr>\n",
       "      <th>52641</th>\n",
       "      <td>Глава совета директоров «Трансойла» вошел в со...</td>\n",
       "      <td>Бизнес</td>\n",
       "    </tr>\n",
       "    <tr>\n",
       "      <th>4338</th>\n",
       "      <td>«Забытые» вклады россиян захотели изъять в пол...</td>\n",
       "      <td>Деньги</td>\n",
       "    </tr>\n",
       "  </tbody>\n",
       "</table>\n",
       "</div>"
      ],
      "text/plain": [
       "                                                     text       labels\n",
       "297725  Чрезвычайное положение в Тунисе продлили на тр...          Все\n",
       "566339  В аэропорту Иркутска совершил аварийную посадк...          Все\n",
       "66888   Путин рассказал рабочим о главном лидерском ка...     Политика\n",
       "717224        Организатор \"Белой стрелы\" вышел на свободу          Все\n",
       "65602   Колдуны сорвали парламентские выборы в Папуа —...     Политика\n",
       "11027   Сын Трампа упрекнул умершего год назад журналиста     Интернет\n",
       "33661   Россиянин с нарушением зрения выиграл бронзу П...  Зимние виды\n",
       "8774    Захарова предложила наказывать футболистов «ст...     Политика\n",
       "52641   Глава совета директоров «Трансойла» вошел в со...       Бизнес\n",
       "4338    «Забытые» вклады россиян захотели изъять в пол...       Деньги"
      ]
     },
     "execution_count": 4,
     "metadata": {},
     "output_type": "execute_result"
    }
   ],
   "source": [
    "data.sample(10)"
   ]
  },
  {
   "cell_type": "code",
   "execution_count": 5,
   "metadata": {},
   "outputs": [
    {
     "data": {
      "text/plain": [
       "(712837, 2)"
      ]
     },
     "execution_count": 5,
     "metadata": {},
     "output_type": "execute_result"
    }
   ],
   "source": [
    "data.shape"
   ]
  },
  {
   "cell_type": "code",
   "execution_count": 6,
   "metadata": {},
   "outputs": [
    {
     "name": "stdout",
     "output_type": "stream",
     "text": [
      "labels left =  48\n"
     ]
    }
   ],
   "source": [
    "unique_labs, counts = np.unique(data['labels'].values, return_counts=True)\n",
    "\n",
    "labs_to_save = unique_labs[counts > 1000]\n",
    "\n",
    "print('labels left = ', len(labs_to_save))\n",
    "\n",
    "data = data[np.isin(data['labels'], labs_to_save)]"
   ]
  },
  {
   "cell_type": "code",
   "execution_count": 7,
   "metadata": {},
   "outputs": [
    {
     "data": {
      "text/plain": [
       "(698938, 2)"
      ]
     },
     "execution_count": 7,
     "metadata": {},
     "output_type": "execute_result"
    }
   ],
   "source": [
    "data.shape"
   ]
  },
  {
   "cell_type": "code",
   "execution_count": 8,
   "metadata": {
    "collapsed": true
   },
   "outputs": [],
   "source": [
    "labs_mapping = {lab: i for i, lab in enumerate(data['labels'].unique())}\n",
    "\n",
    "data['labels'] = data['labels'].apply(lambda x: labs_mapping[x])\n",
    "\n",
    "pickle.dump(labs_mapping, open('data/labs_mapping.pkl', 'wb'))"
   ]
  },
  {
   "cell_type": "code",
   "execution_count": 12,
   "metadata": {
    "collapsed": true
   },
   "outputs": [],
   "source": [
    "# valid is a new data\n",
    "train, valid = train_test_split(data, stratify=data['labels'], test_size=0.45)"
   ]
  },
  {
   "cell_type": "code",
   "execution_count": 13,
   "metadata": {},
   "outputs": [
    {
     "data": {
      "text/plain": [
       "(384415, 2)"
      ]
     },
     "execution_count": 13,
     "metadata": {},
     "output_type": "execute_result"
    }
   ],
   "source": [
    "train.shape"
   ]
  },
  {
   "cell_type": "code",
   "execution_count": 14,
   "metadata": {},
   "outputs": [
    {
     "data": {
      "text/plain": [
       "(314523, 2)"
      ]
     },
     "execution_count": 14,
     "metadata": {},
     "output_type": "execute_result"
    }
   ],
   "source": [
    "valid.shape"
   ]
  },
  {
   "cell_type": "code",
   "execution_count": 15,
   "metadata": {},
   "outputs": [
    {
     "data": {
      "text/plain": [
       "251618.40000000002"
      ]
     },
     "execution_count": 15,
     "metadata": {},
     "output_type": "execute_result"
    }
   ],
   "source": [
    "314523 * 0.8"
   ]
  },
  {
   "cell_type": "code",
   "execution_count": 16,
   "metadata": {},
   "outputs": [
    {
     "data": {
      "text/plain": [
       "62904.600000000006"
      ]
     },
     "execution_count": 16,
     "metadata": {},
     "output_type": "execute_result"
    }
   ],
   "source": [
    "314523 * 0.2"
   ]
  },
  {
   "cell_type": "code",
   "execution_count": 7,
   "metadata": {
    "collapsed": true
   },
   "outputs": [],
   "source": [
    "valid.to_csv('data/48labs/dataset.csv', index=False)\n",
    "\n",
    "train.to_csv('data/concept_search.csv', index=False)"
   ]
  },
  {
   "cell_type": "code",
   "execution_count": null,
   "metadata": {
    "collapsed": true
   },
   "outputs": [],
   "source": []
  },
  {
   "cell_type": "code",
   "execution_count": null,
   "metadata": {
    "collapsed": true
   },
   "outputs": [],
   "source": []
  }
 ],
 "metadata": {
  "kernelspec": {
   "display_name": "Python 3",
   "language": "python",
   "name": "python3"
  },
  "language_info": {
   "codemirror_mode": {
    "name": "ipython",
    "version": 3
   },
   "file_extension": ".py",
   "mimetype": "text/x-python",
   "name": "python",
   "nbconvert_exporter": "python",
   "pygments_lexer": "ipython3",
   "version": "3.6.8"
  }
 },
 "nbformat": 4,
 "nbformat_minor": 2
}
