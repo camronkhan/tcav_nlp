{
 "cells": [
  {
   "cell_type": "code",
   "execution_count": 59,
   "metadata": {
    "collapsed": true
   },
   "outputs": [],
   "source": [
    "from model.model_fn import ModelWrapper\n",
    "import tensorflow as tf\n",
    "import numpy as np\n",
    "from nltk import ngrams\n",
    "import pandas as pd\n",
    "from collections import Counter\n",
    "from model.utils import clean"
   ]
  },
  {
   "cell_type": "markdown",
   "metadata": {},
   "source": [
    "# concepts"
   ]
  },
  {
   "cell_type": "code",
   "execution_count": 56,
   "metadata": {
    "collapsed": true
   },
   "outputs": [],
   "source": [
    "data = pd.read_csv('data/concept_search.csv')"
   ]
  },
  {
   "cell_type": "code",
   "execution_count": 61,
   "metadata": {},
   "outputs": [],
   "source": [
    "data['text'] = data['text'].apply(clean)"
   ]
  },
  {
   "cell_type": "code",
   "execution_count": 86,
   "metadata": {
    "collapsed": true
   },
   "outputs": [],
   "source": [
    "def get_bigrams(text):\n",
    "    words = text.split()\n",
    "    bigrams = ngrams(words, 2)\n",
    "    return list(bigrams)\n",
    "\n",
    "def get_quadgrams(text):\n",
    "    words = text.split()\n",
    "    bigrams = ngrams(words, 4)\n",
    "    return list(bigrams)"
   ]
  },
  {
   "cell_type": "code",
   "execution_count": 87,
   "metadata": {},
   "outputs": [
    {
     "name": "stderr",
     "output_type": "stream",
     "text": [
      "/Users/fursovia/anaconda3/lib/python3.6/site-packages/ipykernel_launcher.py:9: DeprecationWarning: generator 'ngrams' raised StopIteration\n",
      "  if __name__ == '__main__':\n"
     ]
    }
   ],
   "source": [
    "counter = Counter()\n",
    "\n",
    "for t in data['text']:\n",
    "    counter.update(get_quadgrams(t))"
   ]
  },
  {
   "cell_type": "code",
   "execution_count": 94,
   "metadata": {},
   "outputs": [],
   "source": [
    "concepts = [' '.join(a) for a, i in counter.most_common()]"
   ]
  },
  {
   "cell_type": "code",
   "execution_count": 99,
   "metadata": {},
   "outputs": [],
   "source": [
    "rus_concepts = [c for c in concepts if 'путин' in c]"
   ]
  },
  {
   "cell_type": "code",
   "execution_count": 101,
   "metadata": {
    "scrolled": true
   },
   "outputs": [],
   "source": [
    "# rus_concepts"
   ]
  },
  {
   "cell_type": "code",
   "execution_count": 43,
   "metadata": {
    "collapsed": true
   },
   "outputs": [],
   "source": []
  },
  {
   "cell_type": "code",
   "execution_count": null,
   "metadata": {
    "collapsed": true
   },
   "outputs": [],
   "source": []
  },
  {
   "cell_type": "code",
   "execution_count": null,
   "metadata": {
    "collapsed": true
   },
   "outputs": [],
   "source": []
  },
  {
   "cell_type": "markdown",
   "metadata": {},
   "source": [
    "# Ideas\n",
    "\n",
    "* bigrams as concepts"
   ]
  },
  {
   "cell_type": "code",
   "execution_count": 9,
   "metadata": {},
   "outputs": [
    {
     "name": "stdout",
     "output_type": "stream",
     "text": [
      "INFO:tensorflow:Restoring parameters from experiments/test/model.ckpt-955\n"
     ]
    }
   ],
   "source": [
    "endpoints = dict(\n",
    "    input_='model/dim_reduction', \n",
    "    bottleneck='model/bottleneck/BiasAdd',\n",
    "    probs='model/Softmax',\n",
    "    output='model/output_logits/BiasAdd'\n",
    ")\n",
    "\n",
    "mw = ModelWrapper('experiments/test/', endpoints)\n",
    "\n",
    "graph = tf.get_default_graph()\n",
    "\n",
    "sess = tf.Session(graph=graph)\n",
    "sess.run(tf.global_variables_initializer())"
   ]
  },
  {
   "cell_type": "code",
   "execution_count": 6,
   "metadata": {
    "collapsed": true
   },
   "outputs": [],
   "source": [
    "text = 'обама прибыл в оон'\n",
    "text2 = 'обама пошел в магазин'\n",
    "labels = np.array([0])  # some pseudo-label"
   ]
  },
  {
   "cell_type": "code",
   "execution_count": 7,
   "metadata": {
    "collapsed": true
   },
   "outputs": [],
   "source": [
    "preds = mw.calculate_output(sess, text)"
   ]
  },
  {
   "cell_type": "code",
   "execution_count": 8,
   "metadata": {},
   "outputs": [
    {
     "data": {
      "text/plain": [
       "(1, 48)"
      ]
     },
     "execution_count": 8,
     "metadata": {},
     "output_type": "execute_result"
    }
   ],
   "source": [
    "preds.shape  # 48 classes"
   ]
  },
  {
   "cell_type": "code",
   "execution_count": 9,
   "metadata": {
    "collapsed": true
   },
   "outputs": [],
   "source": [
    "grads = mw.calculate_grad(sess, text2, labels)"
   ]
  },
  {
   "cell_type": "code",
   "execution_count": 10,
   "metadata": {},
   "outputs": [
    {
     "data": {
      "text/plain": [
       "(1, 256)"
      ]
     },
     "execution_count": 10,
     "metadata": {},
     "output_type": "execute_result"
    }
   ],
   "source": [
    "grads.shape  # 256 is the size of the hidden layer (bottleneck)"
   ]
  },
  {
   "cell_type": "markdown",
   "metadata": {},
   "source": [
    "# Concepts"
   ]
  },
  {
   "cell_type": "code",
   "execution_count": 11,
   "metadata": {
    "collapsed": true
   },
   "outputs": [],
   "source": [
    "import pandas as pd\n",
    "from model.utils import clean\n",
    "import numpy as np"
   ]
  },
  {
   "cell_type": "code",
   "execution_count": 12,
   "metadata": {
    "collapsed": true
   },
   "outputs": [],
   "source": [
    "# data = pd.read_csv('data/concept_search.csv', nrows=None)\n",
    "\n",
    "# concepts = data[data['text'].str.contains('Путин')].sample(500)['text'].apply(clean).apply(lambda x: x.replace('\\xa0', ' '))\n",
    "# random_data = data.sample(500)['text'].apply(clean).apply(lambda x: x.replace('\\xa0', ' '))\n",
    "# np.save('data/concepts.npy', concepts.values)\n",
    "# np.save('data/random_data.npy', random_data.values)"
   ]
  },
  {
   "cell_type": "code",
   "execution_count": 13,
   "metadata": {
    "collapsed": true
   },
   "outputs": [],
   "source": [
    "concepts = np.load('data/concepts.npy')\n",
    "random_data = np.load('data/random_data.npy')"
   ]
  },
  {
   "cell_type": "code",
   "execution_count": 14,
   "metadata": {},
   "outputs": [
    {
     "name": "stdout",
     "output_type": "stream",
     "text": [
      "CPU times: user 984 ms, sys: 199 ms, total: 1.18 s\n",
      "Wall time: 413 ms\n"
     ]
    }
   ],
   "source": [
    "%%time\n",
    "\n",
    "X_conc = mw.calculate_bottleneck(sess, concepts)\n",
    "\n",
    "X_rand = mw.calculate_bottleneck(sess, random_data)"
   ]
  },
  {
   "cell_type": "code",
   "execution_count": 15,
   "metadata": {
    "collapsed": true
   },
   "outputs": [],
   "source": [
    "X = np.append(X_conc, X_rand, axis=0)\n",
    "y = np.array([1] * len(X_conc) + [0] * len(X_rand))"
   ]
  },
  {
   "cell_type": "code",
   "execution_count": 16,
   "metadata": {
    "collapsed": true
   },
   "outputs": [],
   "source": [
    "np.save('data/X.npy', X)\n",
    "np.save('data/y.npy', y)"
   ]
  },
  {
   "cell_type": "markdown",
   "metadata": {},
   "source": [
    "# CAVs"
   ]
  },
  {
   "cell_type": "code",
   "execution_count": 1,
   "metadata": {
    "collapsed": true
   },
   "outputs": [],
   "source": [
    "import numpy as np\n",
    "from cav import CAV"
   ]
  },
  {
   "cell_type": "code",
   "execution_count": 2,
   "metadata": {
    "collapsed": true
   },
   "outputs": [],
   "source": [
    "X = np.load('data/X.npy')\n",
    "y = np.load('data/y.npy')"
   ]
  },
  {
   "cell_type": "code",
   "execution_count": 3,
   "metadata": {},
   "outputs": [],
   "source": [
    "cav = CAV()"
   ]
  },
  {
   "cell_type": "code",
   "execution_count": 4,
   "metadata": {},
   "outputs": [],
   "source": [
    "v = cav.fit(X, y)"
   ]
  },
  {
   "cell_type": "code",
   "execution_count": 5,
   "metadata": {
    "collapsed": true
   },
   "outputs": [],
   "source": [
    "np.save('data/cav.npy', v)"
   ]
  },
  {
   "cell_type": "code",
   "execution_count": 6,
   "metadata": {},
   "outputs": [
    {
     "data": {
      "text/plain": [
       "(256,)"
      ]
     },
     "execution_count": 6,
     "metadata": {},
     "output_type": "execute_result"
    }
   ],
   "source": [
    "v.shape"
   ]
  },
  {
   "cell_type": "markdown",
   "metadata": {},
   "source": [
    "# TCAV"
   ]
  },
  {
   "cell_type": "code",
   "execution_count": 24,
   "metadata": {
    "collapsed": true
   },
   "outputs": [],
   "source": [
    "import pandas as pd\n",
    "from model.model_fn import ModelWrapper\n",
    "import tensorflow as tf\n",
    "import numpy as np\n",
    "import pickle"
   ]
  },
  {
   "cell_type": "code",
   "execution_count": 8,
   "metadata": {},
   "outputs": [
    {
     "name": "stdout",
     "output_type": "stream",
     "text": [
      "INFO:tensorflow:Restoring parameters from experiments/test/model.ckpt-955\n"
     ]
    }
   ],
   "source": [
    "endpoints = dict(\n",
    "    input_='model/dim_reduction', \n",
    "    bottleneck='model/bottleneck/BiasAdd',\n",
    "    probs='model/Softmax',\n",
    "    output='model/output_logits/BiasAdd'\n",
    ")\n",
    "\n",
    "mw = ModelWrapper('experiments/test/', endpoints)\n",
    "\n",
    "graph = tf.get_default_graph()\n",
    "\n",
    "sess = tf.Session(graph=graph)\n",
    "sess.run(tf.global_variables_initializer())"
   ]
  },
  {
   "cell_type": "code",
   "execution_count": 21,
   "metadata": {
    "collapsed": true
   },
   "outputs": [],
   "source": [
    "train = pd.read_csv('data/48labs/train.csv')\n",
    "\n",
    "labs = train['labels'].values\n",
    "texts = train['text'].tolist()"
   ]
  },
  {
   "cell_type": "code",
   "execution_count": 5,
   "metadata": {},
   "outputs": [
    {
     "name": "stdout",
     "output_type": "stream",
     "text": [
      "CPU times: user 4min 23s, sys: 44.7 s, total: 5min 8s\n",
      "Wall time: 1min 38s\n"
     ]
    }
   ],
   "source": [
    "%%time\n",
    "\n",
    "grads = mw.calculate_grad(sess, texts, labs)"
   ]
  },
  {
   "cell_type": "code",
   "execution_count": 7,
   "metadata": {},
   "outputs": [],
   "source": [
    "#  np.save('data/train_grads.npy', grads)"
   ]
  },
  {
   "cell_type": "code",
   "execution_count": 28,
   "metadata": {},
   "outputs": [],
   "source": [
    "labs_mapping = pickle.load(open('data/labs_mapping.pkl', 'rb'))\n",
    "\n",
    "labs_mapping_inverse = {val: key for key, val in labs_mapping.items()}"
   ]
  },
  {
   "cell_type": "code",
   "execution_count": 9,
   "metadata": {
    "collapsed": true
   },
   "outputs": [],
   "source": [
    "grads = np.load('data/train_grads.npy')\n",
    "v = np.load('data/cav.npy')"
   ]
  },
  {
   "cell_type": "code",
   "execution_count": 14,
   "metadata": {},
   "outputs": [],
   "source": [
    "dot_prod = grads.dot(v)"
   ]
  },
  {
   "cell_type": "code",
   "execution_count": 33,
   "metadata": {
    "scrolled": true
   },
   "outputs": [],
   "source": [
    "tcav_scores = {}\n",
    "\n",
    "for lab in labs:\n",
    "    tcav_score = (dot_prod[labs == lab] > 0).mean()\n",
    "    tcav_scores[lab] = tcav_score"
   ]
  },
  {
   "cell_type": "code",
   "execution_count": 35,
   "metadata": {},
   "outputs": [],
   "source": [
    "tcav_scores_names = {labs_mapping_inverse[key]: val for key, val in tcav_scores.items()}"
   ]
  },
  {
   "cell_type": "code",
   "execution_count": 36,
   "metadata": {},
   "outputs": [
    {
     "data": {
      "text/plain": [
       "{'Coцсети': 0.0,\n",
       " 'Бизнес': 0.7894371091035441,\n",
       " 'Бокс и ММА': 0.0911214953271028,\n",
       " 'Все': 0.9888172476324804,\n",
       " 'Гаджеты': 0.8403141361256544,\n",
       " 'Город': 0.01272264631043257,\n",
       " 'Госэкономика': 0.9835701598579041,\n",
       " 'Дача': 0.7473684210526316,\n",
       " 'Деловой климат': 0.9849462365591398,\n",
       " 'Деньги': 1.0,\n",
       " 'Закавказье': 0.9523809523809523,\n",
       " 'Звери': 0.03759398496240601,\n",
       " 'Зимние виды': 0.6791808873720137,\n",
       " 'Игры': 0.046831955922865015,\n",
       " 'Интернет': 0.539568345323741,\n",
       " 'Искусство': 0.9235668789808917,\n",
       " 'Квартира': 0.7507598784194529,\n",
       " 'Кино': 0.3343789209535759,\n",
       " 'Книги': 0.3459715639810427,\n",
       " 'Конфликты': 0.0036429872495446266,\n",
       " 'Космос': 0.9921135646687698,\n",
       " 'Криминал': 0.5592841163310962,\n",
       " 'Летние виды': 0.8774703557312253,\n",
       " 'Люди': 0.0,\n",
       " 'Мир': 0.9919137466307277,\n",
       " 'Москва': 0.9869565217391304,\n",
       " 'Музыка': 0.30814524043179586,\n",
       " 'Наука': 1.0,\n",
       " 'Общество': 0.15446817333609786,\n",
       " 'Оружие': 0.7746478873239436,\n",
       " 'Политика': 0.0,\n",
       " 'Полиция и спецслужбы': 0.3181818181818182,\n",
       " 'Пресса': 0.0,\n",
       " 'Преступность': 0.7876960193003619,\n",
       " 'Прибалтика': 0.9769585253456221,\n",
       " 'Происшествия': 0.0032200357781753132,\n",
       " 'Регионы': 0.5714285714285714,\n",
       " 'Рынки': 0.3693181818181818,\n",
       " 'Следствие и суд': 0.992462311557789,\n",
       " 'События': 0.0018083182640144665,\n",
       " 'Средняя Азия': 0.3838383838383838,\n",
       " 'Стиль': 0.24383561643835616,\n",
       " 'ТВ и радио': 0.4849056603773585,\n",
       " 'Театр': 0.018779342723004695,\n",
       " 'Техника': 0.7251184834123223,\n",
       " 'Украина': 0.9990442816183498,\n",
       " 'Футбол': 0.015237265999129298,\n",
       " 'Явления': 0.36877828054298645}"
      ]
     },
     "execution_count": 36,
     "metadata": {},
     "output_type": "execute_result"
    }
   ],
   "source": [
    "tcav_scores_names"
   ]
  },
  {
   "cell_type": "code",
   "execution_count": null,
   "metadata": {
    "collapsed": true
   },
   "outputs": [],
   "source": []
  },
  {
   "cell_type": "code",
   "execution_count": null,
   "metadata": {
    "collapsed": true
   },
   "outputs": [],
   "source": []
  }
 ],
 "metadata": {
  "kernelspec": {
   "display_name": "Python 3",
   "language": "python",
   "name": "python3"
  },
  "language_info": {
   "codemirror_mode": {
    "name": "ipython",
    "version": 3
   },
   "file_extension": ".py",
   "mimetype": "text/x-python",
   "name": "python",
   "nbconvert_exporter": "python",
   "pygments_lexer": "ipython3",
   "version": "3.6.8"
  }
 },
 "nbformat": 4,
 "nbformat_minor": 2
}
