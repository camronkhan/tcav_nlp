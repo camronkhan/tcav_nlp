{
 "cells": [
  {
   "cell_type": "code",
   "execution_count": 1,
   "metadata": {
    "collapsed": true
   },
   "outputs": [],
   "source": [
    "import pandas as pd\n",
    "import numpy as np\n",
    "import pickle\n",
    "\n",
    "from sklearn.model_selection import train_test_split"
   ]
  },
  {
   "cell_type": "code",
   "execution_count": 2,
   "metadata": {
    "collapsed": true
   },
   "outputs": [],
   "source": [
    "# https://www.kaggle.com/yutkin/corpus-of-russian-news-articles-from-lenta\n",
    "# Lenta.Ru dataset\n",
    "\n",
    "data = pd.read_csv('data/lenta-ru-news.csv')\n",
    "\n",
    "data = data[['title', 'tags']]\n",
    "data = data.rename(columns={'title': 'text', 'tags': 'labels'})\n",
    "data = data.dropna()"
   ]
  },
  {
   "cell_type": "code",
   "execution_count": 6,
   "metadata": {},
   "outputs": [
    {
     "data": {
      "text/plain": [
       "(712837, 2)"
      ]
     },
     "execution_count": 6,
     "metadata": {},
     "output_type": "execute_result"
    }
   ],
   "source": [
    "data.shape"
   ]
  },
  {
   "cell_type": "code",
   "execution_count": 8,
   "metadata": {},
   "outputs": [
    {
     "data": {
      "text/html": [
       "<div>\n",
       "<style scoped>\n",
       "    .dataframe tbody tr th:only-of-type {\n",
       "        vertical-align: middle;\n",
       "    }\n",
       "\n",
       "    .dataframe tbody tr th {\n",
       "        vertical-align: top;\n",
       "    }\n",
       "\n",
       "    .dataframe thead th {\n",
       "        text-align: right;\n",
       "    }\n",
       "</style>\n",
       "<table border=\"1\" class=\"dataframe\">\n",
       "  <thead>\n",
       "    <tr style=\"text-align: right;\">\n",
       "      <th></th>\n",
       "      <th>text</th>\n",
       "      <th>labels</th>\n",
       "    </tr>\n",
       "  </thead>\n",
       "  <tbody>\n",
       "    <tr>\n",
       "      <th>469893</th>\n",
       "      <td>Сбербанк и ВТБ попали в сотню самых дорогих фи...</td>\n",
       "      <td>Все</td>\n",
       "    </tr>\n",
       "    <tr>\n",
       "      <th>117851</th>\n",
       "      <td>Обама предложил Клинтону подбросить его домой ...</td>\n",
       "      <td>Общество</td>\n",
       "    </tr>\n",
       "    <tr>\n",
       "      <th>701196</th>\n",
       "      <td>В России подорожали почтовые услуги</td>\n",
       "      <td>Все</td>\n",
       "    </tr>\n",
       "    <tr>\n",
       "      <th>580283</th>\n",
       "      <td>Сын Тарзана судится за набедренную повязку отца</td>\n",
       "      <td>Все</td>\n",
       "    </tr>\n",
       "    <tr>\n",
       "      <th>59188</th>\n",
       "      <td>В Кремле опровергли нахождение Иванки Трамп в ...</td>\n",
       "      <td>Политика</td>\n",
       "    </tr>\n",
       "    <tr>\n",
       "      <th>58858</th>\n",
       "      <td>Слепого британца год судили за просмотр детско...</td>\n",
       "      <td>Интернет</td>\n",
       "    </tr>\n",
       "    <tr>\n",
       "      <th>201961</th>\n",
       "      <td>Космический зонд Dawn снова снял таинственные ...</td>\n",
       "      <td>Наука</td>\n",
       "    </tr>\n",
       "    <tr>\n",
       "      <th>488982</th>\n",
       "      <td>До конца года Россия выплатит кредиторам 48 ми...</td>\n",
       "      <td>Все</td>\n",
       "    </tr>\n",
       "    <tr>\n",
       "      <th>114507</th>\n",
       "      <td>Аналитики назвали причину удешевления квартир ...</td>\n",
       "      <td>Квартира</td>\n",
       "    </tr>\n",
       "    <tr>\n",
       "      <th>98418</th>\n",
       "      <td>Си Цзиньпин выступил за новые отношения с США ...</td>\n",
       "      <td>Политика</td>\n",
       "    </tr>\n",
       "  </tbody>\n",
       "</table>\n",
       "</div>"
      ],
      "text/plain": [
       "                                                     text    labels\n",
       "469893  Сбербанк и ВТБ попали в сотню самых дорогих фи...       Все\n",
       "117851  Обама предложил Клинтону подбросить его домой ...  Общество\n",
       "701196                В России подорожали почтовые услуги       Все\n",
       "580283    Сын Тарзана судится за набедренную повязку отца       Все\n",
       "59188   В Кремле опровергли нахождение Иванки Трамп в ...  Политика\n",
       "58858   Слепого британца год судили за просмотр детско...  Интернет\n",
       "201961  Космический зонд Dawn снова снял таинственные ...     Наука\n",
       "488982  До конца года Россия выплатит кредиторам 48 ми...       Все\n",
       "114507  Аналитики назвали причину удешевления квартир ...  Квартира\n",
       "98418   Си Цзиньпин выступил за новые отношения с США ...  Политика"
      ]
     },
     "execution_count": 8,
     "metadata": {},
     "output_type": "execute_result"
    }
   ],
   "source": [
    "data.sample(10)"
   ]
  },
  {
   "cell_type": "code",
   "execution_count": 7,
   "metadata": {},
   "outputs": [],
   "source": [
    "unique_labs, counts = np.unique(data['labels'].values, return_counts=True)\n",
    "\n",
    "labs_to_save = unique_labs[counts > 1000]\n",
    "\n",
    "print('labels left = ', len(labs_to_save))\n",
    "\n",
    "data = data[np.isin(data['labels'], labs_to_save)]"
   ]
  },
  {
   "cell_type": "code",
   "execution_count": 11,
   "metadata": {
    "collapsed": true
   },
   "outputs": [],
   "source": [
    "labs_mapping = {lab: i for i, lab in enumerate(data['labels'].unique())}\n",
    "\n",
    "data['labels'] = data['labels'].apply(lambda x: labs_mapping[x])\n",
    "\n",
    "pickle.dump(labs_mapping, open('data/labs_mapping.pkl', 'wb'))"
   ]
  },
  {
   "cell_type": "code",
   "execution_count": 18,
   "metadata": {},
   "outputs": [],
   "source": [
    "# valid is a new data\n",
    "train, valid = train_test_split(data, stratify=data['labels'], test_size=0.25)\n",
    "\n",
    "valid.to_csv('data/48labs/dataset.csv', index=False)"
   ]
  },
  {
   "cell_type": "code",
   "execution_count": 21,
   "metadata": {},
   "outputs": [
    {
     "data": {
      "text/plain": [
       "(174735, 2)"
      ]
     },
     "execution_count": 21,
     "metadata": {},
     "output_type": "execute_result"
    }
   ],
   "source": [
    "valid.shape"
   ]
  },
  {
   "cell_type": "code",
   "execution_count": null,
   "metadata": {
    "collapsed": true
   },
   "outputs": [],
   "source": []
  }
 ],
 "metadata": {
  "kernelspec": {
   "display_name": "Python 3",
   "language": "python",
   "name": "python3"
  },
  "language_info": {
   "codemirror_mode": {
    "name": "ipython",
    "version": 3
   },
   "file_extension": ".py",
   "mimetype": "text/x-python",
   "name": "python",
   "nbconvert_exporter": "python",
   "pygments_lexer": "ipython3",
   "version": "3.6.8"
  }
 },
 "nbformat": 4,
 "nbformat_minor": 2
}
