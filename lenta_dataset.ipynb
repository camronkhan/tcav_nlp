{
 "cells": [
  {
   "cell_type": "code",
   "execution_count": 1,
   "metadata": {},
   "outputs": [],
   "source": [
    "import pandas as pd\n",
    "import numpy as np\n",
    "import pickle\n",
    "\n",
    "from sklearn.model_selection import train_test_split"
   ]
  },
  {
   "cell_type": "code",
   "execution_count": 2,
   "metadata": {},
   "outputs": [],
   "source": [
    "# https://www.kaggle.com/yutkin/corpus-of-russian-news-articles-from-lenta\n",
    "# Lenta.Ru dataset\n",
    "\n",
    "data = pd.read_csv('data/lenta-ru-news.csv')\n",
    "\n",
    "data = data[['title', 'tags']]\n",
    "data = data.rename(columns={'title': 'text', 'tags': 'labels'})\n",
    "data = data.dropna()"
   ]
  },
  {
   "cell_type": "code",
   "execution_count": 3,
   "metadata": {},
   "outputs": [
    {
     "data": {
      "text/plain": [
       "(712837, 2)"
      ]
     },
     "execution_count": 3,
     "metadata": {},
     "output_type": "execute_result"
    }
   ],
   "source": [
    "data.shape"
   ]
  },
  {
   "cell_type": "code",
   "execution_count": 4,
   "metadata": {},
   "outputs": [
    {
     "data": {
      "text/html": [
       "<div>\n",
       "<style scoped>\n",
       "    .dataframe tbody tr th:only-of-type {\n",
       "        vertical-align: middle;\n",
       "    }\n",
       "\n",
       "    .dataframe tbody tr th {\n",
       "        vertical-align: top;\n",
       "    }\n",
       "\n",
       "    .dataframe thead th {\n",
       "        text-align: right;\n",
       "    }\n",
       "</style>\n",
       "<table border=\"1\" class=\"dataframe\">\n",
       "  <thead>\n",
       "    <tr style=\"text-align: right;\">\n",
       "      <th></th>\n",
       "      <th>text</th>\n",
       "      <th>labels</th>\n",
       "    </tr>\n",
       "  </thead>\n",
       "  <tbody>\n",
       "    <tr>\n",
       "      <th>117186</th>\n",
       "      <td>Россиянка подала иск на 500 тысяч рублей проти...</td>\n",
       "      <td>События</td>\n",
       "    </tr>\n",
       "    <tr>\n",
       "      <th>663784</th>\n",
       "      <td>Караоке Шери Блэр стало хитом лета на Ибице</td>\n",
       "      <td>Все</td>\n",
       "    </tr>\n",
       "    <tr>\n",
       "      <th>16315</th>\n",
       "      <td>Медведев объяснил остановку российских танков ...</td>\n",
       "      <td>Политика</td>\n",
       "    </tr>\n",
       "    <tr>\n",
       "      <th>422074</th>\n",
       "      <td>Палеонтологи нашли старейшего предка птиц</td>\n",
       "      <td>Все</td>\n",
       "    </tr>\n",
       "    <tr>\n",
       "      <th>381457</th>\n",
       "      <td>Фергюсон исключил возвращение Бекхэма в \"Манче...</td>\n",
       "      <td>Все</td>\n",
       "    </tr>\n",
       "    <tr>\n",
       "      <th>589914</th>\n",
       "      <td>В Газе похищены трое иностранцев</td>\n",
       "      <td>Все</td>\n",
       "    </tr>\n",
       "    <tr>\n",
       "      <th>363568</th>\n",
       "      <td>Прохоров отказался вступать в Народный фронт</td>\n",
       "      <td>Все</td>\n",
       "    </tr>\n",
       "    <tr>\n",
       "      <th>320973</th>\n",
       "      <td>Камчатка вышла в лидеры по количеству старых м...</td>\n",
       "      <td>Все</td>\n",
       "    </tr>\n",
       "    <tr>\n",
       "      <th>54483</th>\n",
       "      <td>Россия поднялась в мировом рейтинге конкуренто...</td>\n",
       "      <td>Госэкономика</td>\n",
       "    </tr>\n",
       "    <tr>\n",
       "      <th>677574</th>\n",
       "      <td>Лужков отказался строить в Москве трассу Форму...</td>\n",
       "      <td>Все</td>\n",
       "    </tr>\n",
       "  </tbody>\n",
       "</table>\n",
       "</div>"
      ],
      "text/plain": [
       "                                                     text        labels\n",
       "117186  Россиянка подала иск на 500 тысяч рублей проти...       События\n",
       "663784        Караоке Шери Блэр стало хитом лета на Ибице           Все\n",
       "16315   Медведев объяснил остановку российских танков ...      Политика\n",
       "422074          Палеонтологи нашли старейшего предка птиц           Все\n",
       "381457  Фергюсон исключил возвращение Бекхэма в \"Манче...           Все\n",
       "589914                   В Газе похищены трое иностранцев           Все\n",
       "363568       Прохоров отказался вступать в Народный фронт           Все\n",
       "320973  Камчатка вышла в лидеры по количеству старых м...           Все\n",
       "54483   Россия поднялась в мировом рейтинге конкуренто...  Госэкономика\n",
       "677574  Лужков отказался строить в Москве трассу Форму...           Все"
      ]
     },
     "execution_count": 4,
     "metadata": {},
     "output_type": "execute_result"
    }
   ],
   "source": [
    "data.sample(10)"
   ]
  },
  {
   "cell_type": "code",
   "execution_count": 5,
   "metadata": {},
   "outputs": [
    {
     "name": "stdout",
     "output_type": "stream",
     "text": [
      "labels left =  48\n"
     ]
    }
   ],
   "source": [
    "unique_labs, counts = np.unique(data['labels'].values, return_counts=True)\n",
    "\n",
    "labs_to_save = unique_labs[counts > 1000]\n",
    "\n",
    "print('labels left = ', len(labs_to_save))\n",
    "\n",
    "data = data[np.isin(data['labels'], labs_to_save)]"
   ]
  },
  {
   "cell_type": "code",
   "execution_count": 6,
   "metadata": {},
   "outputs": [],
   "source": [
    "labs_mapping = {lab: i for i, lab in enumerate(data['labels'].unique())}\n",
    "\n",
    "data['labels'] = data['labels'].apply(lambda x: labs_mapping[x])\n",
    "\n",
    "pickle.dump(labs_mapping, open('data/labs_mapping.pkl', 'wb'))"
   ]
  },
  {
   "cell_type": "code",
   "execution_count": 8,
   "metadata": {},
   "outputs": [],
   "source": [
    "# valid is a new data\n",
    "train, valid = train_test_split(data, stratify=data['labels'], test_size=0.4)"
   ]
  },
  {
   "cell_type": "code",
   "execution_count": 9,
   "metadata": {},
   "outputs": [],
   "source": [
    "valid.to_csv('data/48labs/dataset.csv', index=False)\n",
    "\n",
    "train.to_csv('data/concept_search.csv', index=False)"
   ]
  },
  {
   "cell_type": "code",
   "execution_count": null,
   "metadata": {
    "collapsed": true
   },
   "outputs": [],
   "source": []
  },
  {
   "cell_type": "code",
   "execution_count": null,
   "metadata": {
    "collapsed": true
   },
   "outputs": [],
   "source": []
  }
 ],
 "metadata": {
  "kernelspec": {
   "display_name": "Python 3",
   "language": "python",
   "name": "python3"
  },
  "language_info": {
   "codemirror_mode": {
    "name": "ipython",
    "version": 3
   },
   "file_extension": ".py",
   "mimetype": "text/x-python",
   "name": "python",
   "nbconvert_exporter": "python",
   "pygments_lexer": "ipython3",
   "version": "3.6.5"
  }
 },
 "nbformat": 4,
 "nbformat_minor": 2
}
