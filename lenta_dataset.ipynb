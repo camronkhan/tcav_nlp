{
 "cells": [
  {
   "cell_type": "code",
   "execution_count": 1,
   "metadata": {
    "collapsed": true
   },
   "outputs": [],
   "source": [
    "import pandas as pd\n",
    "import numpy as np\n",
    "import pickle\n",
    "\n",
    "from sklearn.model_selection import train_test_split"
   ]
  },
  {
   "cell_type": "code",
   "execution_count": 2,
   "metadata": {
    "collapsed": true
   },
   "outputs": [],
   "source": [
    "# https://www.kaggle.com/yutkin/corpus-of-russian-news-articles-from-lenta\n",
    "# Lenta.Ru dataset\n",
    "\n",
    "data = pd.read_csv('data/lenta-ru-news.csv')\n",
    "\n",
    "data = data[['title', 'tags']]\n",
    "data = data.rename(columns={'title': 'text', 'tags': 'labels'})\n",
    "data = data.dropna()"
   ]
  },
  {
   "cell_type": "code",
   "execution_count": 3,
   "metadata": {},
   "outputs": [
    {
     "data": {
      "text/plain": [
       "(712837, 2)"
      ]
     },
     "execution_count": 3,
     "metadata": {},
     "output_type": "execute_result"
    }
   ],
   "source": [
    "data.shape"
   ]
  },
  {
   "cell_type": "code",
   "execution_count": 4,
   "metadata": {},
   "outputs": [
    {
     "data": {
      "text/html": [
       "<div>\n",
       "<style scoped>\n",
       "    .dataframe tbody tr th:only-of-type {\n",
       "        vertical-align: middle;\n",
       "    }\n",
       "\n",
       "    .dataframe tbody tr th {\n",
       "        vertical-align: top;\n",
       "    }\n",
       "\n",
       "    .dataframe thead th {\n",
       "        text-align: right;\n",
       "    }\n",
       "</style>\n",
       "<table border=\"1\" class=\"dataframe\">\n",
       "  <thead>\n",
       "    <tr style=\"text-align: right;\">\n",
       "      <th></th>\n",
       "      <th>text</th>\n",
       "      <th>labels</th>\n",
       "    </tr>\n",
       "  </thead>\n",
       "  <tbody>\n",
       "    <tr>\n",
       "      <th>427848</th>\n",
       "      <td>В Великобритании появится собственное космичес...</td>\n",
       "      <td>Все</td>\n",
       "    </tr>\n",
       "    <tr>\n",
       "      <th>620864</th>\n",
       "      <td>В понедельник, среду и пятницу в центр Москвы ...</td>\n",
       "      <td>Все</td>\n",
       "    </tr>\n",
       "    <tr>\n",
       "      <th>295429</th>\n",
       "      <td>НАТО согласилось поставить Турции комплексы ПВ...</td>\n",
       "      <td>Все</td>\n",
       "    </tr>\n",
       "    <tr>\n",
       "      <th>271260</th>\n",
       "      <td>В Англии пустят с молотка французское шампанск...</td>\n",
       "      <td>Еда</td>\n",
       "    </tr>\n",
       "    <tr>\n",
       "      <th>101759</th>\n",
       "      <td>UFC сообщил об отмене поединка между Вердумом ...</td>\n",
       "      <td>Бокс и ММА</td>\n",
       "    </tr>\n",
       "    <tr>\n",
       "      <th>296235</th>\n",
       "      <td>Молдавским священникам запретили самовольно об...</td>\n",
       "      <td>Все</td>\n",
       "    </tr>\n",
       "    <tr>\n",
       "      <th>612414</th>\n",
       "      <td>Немецкий концерн KarstadtQuelle продает британ...</td>\n",
       "      <td>Все</td>\n",
       "    </tr>\n",
       "    <tr>\n",
       "      <th>355301</th>\n",
       "      <td>Полномочия Росохранкультуры передадут вице-пре...</td>\n",
       "      <td>Все</td>\n",
       "    </tr>\n",
       "    <tr>\n",
       "      <th>405233</th>\n",
       "      <td>В Оше возобновились беспорядки</td>\n",
       "      <td>Все</td>\n",
       "    </tr>\n",
       "    <tr>\n",
       "      <th>726119</th>\n",
       "      <td>Российский гимнаст Алексей Немов стал олимпийс...</td>\n",
       "      <td>Все</td>\n",
       "    </tr>\n",
       "  </tbody>\n",
       "</table>\n",
       "</div>"
      ],
      "text/plain": [
       "                                                     text      labels\n",
       "427848  В Великобритании появится собственное космичес...         Все\n",
       "620864  В понедельник, среду и пятницу в центр Москвы ...         Все\n",
       "295429  НАТО согласилось поставить Турции комплексы ПВ...         Все\n",
       "271260  В Англии пустят с молотка французское шампанск...         Еда\n",
       "101759  UFC сообщил об отмене поединка между Вердумом ...  Бокс и ММА\n",
       "296235  Молдавским священникам запретили самовольно об...         Все\n",
       "612414  Немецкий концерн KarstadtQuelle продает британ...         Все\n",
       "355301  Полномочия Росохранкультуры передадут вице-пре...         Все\n",
       "405233                     В Оше возобновились беспорядки         Все\n",
       "726119  Российский гимнаст Алексей Немов стал олимпийс...         Все"
      ]
     },
     "execution_count": 4,
     "metadata": {},
     "output_type": "execute_result"
    }
   ],
   "source": [
    "data.sample(10)"
   ]
  },
  {
   "cell_type": "code",
   "execution_count": 5,
   "metadata": {},
   "outputs": [
    {
     "name": "stdout",
     "output_type": "stream",
     "text": [
      "labels left =  48\n"
     ]
    }
   ],
   "source": [
    "unique_labs, counts = np.unique(data['labels'].values, return_counts=True)\n",
    "\n",
    "labs_to_save = unique_labs[counts > 1000]\n",
    "\n",
    "print('labels left = ', len(labs_to_save))\n",
    "\n",
    "data = data[np.isin(data['labels'], labs_to_save)]"
   ]
  },
  {
   "cell_type": "code",
   "execution_count": 6,
   "metadata": {
    "collapsed": true
   },
   "outputs": [],
   "source": [
    "labs_mapping = {lab: i for i, lab in enumerate(data['labels'].unique())}\n",
    "\n",
    "data['labels'] = data['labels'].apply(lambda x: labs_mapping[x])\n",
    "\n",
    "pickle.dump(labs_mapping, open('data/labs_mapping.pkl', 'wb'))"
   ]
  },
  {
   "cell_type": "code",
   "execution_count": 7,
   "metadata": {
    "collapsed": true
   },
   "outputs": [],
   "source": [
    "# valid is a new data\n",
    "train, valid = train_test_split(data, stratify=data['labels'], test_size=0.25)\n",
    "\n",
    "valid.to_csv('data/48labs/dataset.csv', index=False)"
   ]
  },
  {
   "cell_type": "code",
   "execution_count": 8,
   "metadata": {
    "collapsed": true
   },
   "outputs": [],
   "source": [
    "train.to_csv('data/concept_search.csv', index=False)"
   ]
  },
  {
   "cell_type": "code",
   "execution_count": null,
   "metadata": {
    "collapsed": true
   },
   "outputs": [],
   "source": []
  },
  {
   "cell_type": "code",
   "execution_count": null,
   "metadata": {
    "collapsed": true
   },
   "outputs": [],
   "source": []
  }
 ],
 "metadata": {
  "kernelspec": {
   "display_name": "Python 3",
   "language": "python",
   "name": "python3"
  },
  "language_info": {
   "codemirror_mode": {
    "name": "ipython",
    "version": 3
   },
   "file_extension": ".py",
   "mimetype": "text/x-python",
   "name": "python",
   "nbconvert_exporter": "python",
   "pygments_lexer": "ipython3",
   "version": "3.6.8"
  }
 },
 "nbformat": 4,
 "nbformat_minor": 2
}
